{
  "nbformat": 4,
  "nbformat_minor": 0,
  "metadata": {
    "colab": {
      "name": "Practical1_File_1.ipynb",
      "provenance": [],
      "collapsed_sections": [],
      "include_colab_link": true
    },
    "kernelspec": {
      "display_name": "Python 3",
      "language": "python",
      "name": "python3"
    },
    "language_info": {
      "codemirror_mode": {
        "name": "ipython",
        "version": 3
      },
      "file_extension": ".py",
      "mimetype": "text/x-python",
      "name": "python",
      "nbconvert_exporter": "python",
      "pygments_lexer": "ipython3",
      "version": "3.7.3"
    }
  },
  "cells": [
    {
      "cell_type": "markdown",
      "metadata": {
        "id": "view-in-github",
        "colab_type": "text"
      },
      "source": [
        "<a href=\"https://colab.research.google.com/github/WarszawoWalcz/CalculusTeachingMaterial/blob/master/Practical1_File_1_Solved.ipynb\" target=\"_parent\"><img src=\"https://colab.research.google.com/assets/colab-badge.svg\" alt=\"Open In Colab\"/></a>"
      ]
    },
    {
      "cell_type": "markdown",
      "metadata": {
        "id": "bNv5PRrOUyy_"
      },
      "source": [
        "#Practical 1: Sequences and asymptotics\n",
        "\n",
        "## Asymptotic sequences\n",
        "In this practical we will learn how to compute the limit of sequences using asymptotics. \n",
        "Remember that two sequences A and B are asymptotic when:\n",
        "\n",
        "$$\n",
        "\\lim_{n \\rightarrow \\infty} \\frac{A_n}{B_n} = \\lim_{n \\rightarrow \\infty} \\frac{B_n}{A_n} = 1\n",
        "$$\n",
        "\n",
        "In words, two sequences are asymptotic when their ratio tends to one as $n$ goes to infinity. If $A_n$ and $B_n$ are asympototic, we write:\n",
        "\n",
        "$$\n",
        "A_n \\sim B_n~.\n",
        "$$\n",
        "\n",
        "For example, consider the sequences \n",
        "\n",
        "$$\n",
        "A_n = n + n^2\n",
        "$$\n",
        "\n",
        "and\n",
        "\n",
        "$$\n",
        "B_n = n^2~.\n",
        "$$\n",
        "\n",
        "Their ration define a new sequence $R_n$:\n",
        "\n",
        "$$\n",
        "R_n = \\frac{A_n}{B_n} = \\frac{n + n^2}{n} = \\frac{n}{n^2} + \\frac{n^2}{n^2} = \\frac{1}{n} + 1$$\n",
        "\n",
        "Since $\\lim_{n \\rightarrow \\infty} 1/n$ is equal to zero, the limit of this ration is clearly equal to one. Therefore, $A_n$ and $B_n$ are asymptotic. Note that we could have proven this result also by computing the limit of the inverse ration $B_n/A_n$. However, the computation is more difficult in this case as we can't \"split\" a sum in the denumerator.\n",
        "\n",
        "### Solved exercise 1\n",
        "Prove that the following two sequences are symptotic:\n",
        "\n",
        "$$\n",
        "A_n = 2 n^2 + 3 n^3\n",
        "$$\n",
        "\n",
        "and\n",
        "\n",
        "$$\n",
        "B_n = n + 3 n^3~.\n",
        "$$\n",
        "\n",
        "#### Step-by-step solution\n",
        "First, let's define the ratio sequence:\n",
        "\n",
        "$$\n",
        "R_n = \\frac{A_n}{B_n} = \\frac{2 n^2 + 3 n^3}{n + 3 n^3} \n",
        "$$\n",
        "\n",
        "To procede, we can divide both numerator and denumerator by $1/n^3$:\n",
        "\n",
        "$$\n",
        "\\frac{2 n^2 + 3 n^3}{n + 3 n^3} = \\frac{\\frac{1}{n^3} \\left(2 n^2 + 3 n^3 \\right)}{\\frac{1}{n^3} \\left(n + 3 n^3\\right)} = \\frac{\\frac{2}{n} + 3}{\\frac{1}{n^2} + 3} = \\frac{\\tilde{A}_n}{\\tilde{B}_n}\n",
        "$$\n",
        "\n",
        "where the new sequences $\\tilde{A}_n$ and $\\tilde{B}_n$ are difened as follows\n",
        "\n",
        "$$\n",
        "\\tilde{A}_n = \\frac{2}{n} + 3\n",
        "$$\n",
        "\n",
        "and\n",
        "\n",
        "$$\n",
        "\\tilde{B}_n = \\frac{1}{n^2} + 3~.\n",
        "$$\n",
        "\n",
        "What did we accomplish? We transformed a ratio between two sequences that tend to infinity (undeterminate form) to a ratio of sequences that tend to a finite limit. In fact, it is easy to see that both $\\tilde{A}_n$ and $\\tilde{B}_n$ tend to $3$.\n",
        "We can now use the following **VERY IMPORTANT** theorem:\n",
        "\n",
        "**_Theorem 1:_** If the sequence $A_n$ has $a$ as limit and the sequence $B_n$ has $b$ as limit, the limit of the ratio sequence $A_n/B_n$ is the ratio of the limits $a/b$\n",
        "\n",
        "Therefore, the limit of $\\tilde{A}_n/\\tilde{B}_n$ is equal to $3/3 = 1$. This proves that the sequences $A_n$ and $B_n$ are asymptotic.\n",
        "\n",
        "### Solved Python exercise 1\n",
        "\n",
        "Use python to check the result of the solved exercise 1 numerically.\n",
        "\n",
        "#### Solution\n",
        "\n",
        "We can define the sequences $A_n$ and $B_n$ in python using lambdas:"
      ]
    },
    {
      "cell_type": "code",
      "metadata": {
        "id": "WaGqUe1wesgh"
      },
      "source": [
        "A = lambda n: 2*n**2 + 3*n**3\n",
        "B = lambda n: n + 3*n**3"
      ],
      "execution_count": 1,
      "outputs": []
    },
    {
      "cell_type": "markdown",
      "metadata": {
        "id": "fgYY4Ja4fHQu"
      },
      "source": [
        "Note that in Python a**b means a to the power of b (i.e. $a^b$).\n",
        "\n",
        "We can use those lambdas to evaluate the numerical value of the sequence for arbitrarely values of $n$. For example, the following code prints the value of $A_5$ and $B_5$\n",
        "\n",
        "```\n",
        "# This is formatted as code\n",
        "```\n",
        "\n",
        ":"
      ]
    },
    {
      "cell_type": "code",
      "metadata": {
        "colab": {
          "base_uri": "https://localhost:8080/"
        },
        "id": "MQkmolR8Yr7D",
        "outputId": "fdea3ad0-f12e-4ad3-de25-1d09945a009d"
      },
      "source": [
        "A = lambda n: 2*n**2 + 3*n**3\n",
        "B = lambda n: n + 3*n**3\n",
        "print(\"A_5 is equal to: {}\".format(A(5)))\n",
        "print(\"B_5 is equal to: {}\".format(B(5)))"
      ],
      "execution_count": 2,
      "outputs": [
        {
          "output_type": "stream",
          "name": "stdout",
          "text": [
            "A_5 is equal to: 425\n",
            "B_5 is equal to: 380\n"
          ]
        }
      ]
    },
    {
      "cell_type": "code",
      "metadata": {
        "colab": {
          "base_uri": "https://localhost:8080/",
          "height": 53
        },
        "id": "uQmvvOd3fVRf",
        "outputId": "df892ac6-664d-48c4-a745-dbe698317813"
      },
      "source": [
        "print(\"A_5 is equal to: {}\".format(A(5)))\n",
        "print(\"B_5 is equal to: {}\".format(B(5)))"
      ],
      "execution_count": null,
      "outputs": [
        {
          "name": "stdout",
          "output_type": "stream",
          "text": [
            "A_5 is equal to: 425\n",
            "B_5 is equal to: 380\n"
          ]
        }
      ]
    },
    {
      "cell_type": "markdown",
      "metadata": {
        "id": "YHpUZq5Jf0L2"
      },
      "source": [
        "We can now approximate the limit of their ratio nomerically by printing the ratio of the two sequences for a very large value of $n$. For example, let's use $n = 10000$:"
      ]
    },
    {
      "cell_type": "code",
      "metadata": {
        "colab": {
          "base_uri": "https://localhost:8080/",
          "height": 35
        },
        "id": "yCQPjcj0gDm3",
        "outputId": "5fc9d47e-9a88-4a70-b737-2bccf8a45830"
      },
      "source": [
        "N = 10000\n",
        "print(\"The limit of A_n/B_n is approximately equal to: {}\".format(A(N)/B(N)))"
      ],
      "execution_count": null,
      "outputs": [
        {
          "name": "stdout",
          "output_type": "stream",
          "text": [
            "The limit of A_n/B_n is approximately equal to: 1.0000666633331112\n"
          ]
        }
      ]
    },
    {
      "cell_type": "markdown",
      "metadata": {
        "id": "rjw1wUXzU5Hx"
      },
      "source": [
        "As expected, this value is very close to the real limit $1$.\n",
        "\n",
        "### Exercises 1\n",
        "Determine if the following pair of sequences are asymptotic or not\n",
        "- A:    $A_n = 1 + n$, $B_n = 5 n$\n",
        "- B:    $A_n = 2 + n^2 + 4 n^3$, $B_n = 4 n + 4 n^3$\n",
        "- C:    $A_n = 1 + n + n^3$, $B_n = 1 + n$\n",
        "- D:    $A_n = 6 + 3 n^2 + 2 n^3$, $B_n = 4 n + 2 n^3$\n",
        "- E:    $A_n = 5 n^4$, $B_n = 4 n + n^4$\n",
        "- F:    $A_n = 3 n + 4 n^2 + 16 n^3$, $B_n = 1 + n^2 + 10 n^3$\n",
        "\n",
        "#### Solutions\n",
        "- A: No\n",
        "- B: Yes\n",
        "- C: No\n",
        "- D: Yes\n",
        "- E: No\n",
        "- F: No\n",
        "\n",
        "### Python exercises 1\n",
        "\n",
        "Check the results of the previous exercises numerically using Python."
      ]
    },
    {
      "cell_type": "code",
      "metadata": {
        "colab": {
          "base_uri": "https://localhost:8080/"
        },
        "id": "N6aS-Iw0U-Cd",
        "outputId": "db880d67-e2c0-434c-fc11-182537272adb"
      },
      "source": [
        "#Question A\n",
        "A = lambda n: 2*n**2 + 3*n**3\n",
        "B = lambda n: n + 3*n**3\n",
        "N = 10000\n",
        "print(\"The limit of A_n/B_n is approximately equal to: {}\".format(A(N)/B(N)))\n"
      ],
      "execution_count": 3,
      "outputs": [
        {
          "output_type": "stream",
          "name": "stdout",
          "text": [
            "The limit of A_n/B_n is approximately equal to: 1.0000666633331112\n"
          ]
        }
      ]
    },
    {
      "cell_type": "markdown",
      "metadata": {
        "id": "UxAefC9w3NNB"
      },
      "source": [
        "Please type your own calculations for this exercise in here. \n",
        "(The format in which you would write it down, according to the lecture notes)"
      ]
    },
    {
      "cell_type": "code",
      "metadata": {
        "colab": {
          "base_uri": "https://localhost:8080/"
        },
        "id": "Uum581U3VAGh",
        "outputId": "baf02d10-cc2d-4279-e31b-f9bfe71ae4da"
      },
      "source": [
        "#Question B\n",
        "A = lambda n: 2 + n**2 + 4*n**3\n",
        "B = lambda n: 4*n + 4*n**3\n",
        "N = 10000\n",
        "print(\"The limit of A_n/B_n is approximately equal to: {}\".format(A(N)/B(N)))"
      ],
      "execution_count": 5,
      "outputs": [
        {
          "output_type": "stream",
          "name": "stdout",
          "text": [
            "The limit of A_n/B_n is approximately equal to: 1.00002499000025\n"
          ]
        }
      ]
    },
    {
      "cell_type": "markdown",
      "metadata": {
        "id": "ikaCrgam3Sqg"
      },
      "source": [
        "Please type your own calculations for this exercise in here. \n",
        "(The format in which you would write it down, according to the lecture notes)"
      ]
    },
    {
      "cell_type": "code",
      "metadata": {
        "colab": {
          "base_uri": "https://localhost:8080/"
        },
        "id": "0D9wHIYbVBjb",
        "outputId": "f9d68725-0103-43d0-99be-f3e2eccda223"
      },
      "source": [
        "#Question C\n",
        "A = lambda n: 1 + n + 2*n**3\n",
        "B = lambda n: 1 + n\n",
        "N = 10000\n",
        "print(\"The limit of A_n/B_n is approximately equal to: {}\".format(A(N)/B(N)))"
      ],
      "execution_count": 7,
      "outputs": [
        {
          "output_type": "stream",
          "name": "stdout",
          "text": [
            "The limit of A_n/B_n is approximately equal to: 1.9999999998e+20\n"
          ]
        }
      ]
    },
    {
      "cell_type": "markdown",
      "metadata": {
        "id": "KO8EknYU3TnL"
      },
      "source": [
        "Please type your own calculations for this exercise in here. \n",
        "(The format in which you would write it down, according to the lecture notes)"
      ]
    },
    {
      "cell_type": "code",
      "metadata": {
        "colab": {
          "base_uri": "https://localhost:8080/"
        },
        "id": "n7ukTagUVC3V",
        "outputId": "b7f8008b-3817-41bb-eada-b0f13b2ae32c"
      },
      "source": [
        "#Question D\n",
        "A = lambda n: 6 + 3*n**2 + 2*n**3\n",
        "B = lambda n: 4*n + 2*n**3\n",
        "N = 10000\n",
        "print(\"The limit of A_n/B_n is approximately equal to: {}\".format(A(N)/B(N)))"
      ],
      "execution_count": 9,
      "outputs": [
        {
          "output_type": "stream",
          "name": "stdout",
          "text": [
            "The limit of A_n/B_n is approximately equal to: 1.0001499800000004\n"
          ]
        }
      ]
    },
    {
      "cell_type": "markdown",
      "metadata": {
        "id": "C0QYlMep3URh"
      },
      "source": [
        "Please type your own calculations for this exercise in here. \n",
        "(The format in which you would write it down, according to the lecture notes)"
      ]
    },
    {
      "cell_type": "code",
      "metadata": {
        "colab": {
          "base_uri": "https://localhost:8080/"
        },
        "id": "kR3S7cQHVEIP",
        "outputId": "619fbf4c-1378-4f79-bede-ad1009734e06"
      },
      "source": [
        "#Question E\n",
        "A = lambda n: 5*n**4\n",
        "B = lambda n: 4*n + n**4\n",
        "N = 10000\n",
        "print(\"The limit of A_n/B_n is approximately equal to: {}\".format(A(N)/B(N)))"
      ],
      "execution_count": 10,
      "outputs": [
        {
          "output_type": "stream",
          "name": "stdout",
          "text": [
            "The limit of A_n/B_n is approximately equal to: 4.99999999998\n"
          ]
        }
      ]
    },
    {
      "cell_type": "markdown",
      "metadata": {
        "id": "X-RJJ4QL3U8W"
      },
      "source": [
        "Please type your own calculations for this exercise in here. \n",
        "(The format in which you would write it down, according to the lecture notes)"
      ]
    },
    {
      "cell_type": "code",
      "metadata": {
        "colab": {
          "base_uri": "https://localhost:8080/"
        },
        "id": "Oh8FB9yfVFR_",
        "outputId": "b9ef83cb-6232-4c1a-b32b-a6c8984802bd"
      },
      "source": [
        "#Question F\n",
        "A = lambda n: 3*n + 4*n**2 + 16*n**3\n",
        "B = lambda n: 1 + n**2 + 10*n**3\n",
        "N = 10000\n",
        "print(\"The limit of A_n/B_n is approximately equal to: {}\".format(A(N)/B(N)))"
      ],
      "execution_count": 12,
      "outputs": [
        {
          "output_type": "stream",
          "name": "stdout",
          "text": [
            "The limit of A_n/B_n is approximately equal to: 1.6000240027598125\n"
          ]
        }
      ]
    },
    {
      "cell_type": "markdown",
      "metadata": {
        "id": "qjvPh7ww3xua"
      },
      "source": [
        "Please type your own calculations for this exercise in here. \n",
        "(The format in which you would write it down, according to the lecture notes)"
      ]
    },
    {
      "cell_type": "markdown",
      "metadata": {
        "id": "wl9fUrPjVwyM"
      },
      "source": [
        "## A simple rule for polynomial sequences\n",
        "\n",
        "A sequence is called polynomial if all its $n$-th values are a weighted sums of powers of $n$. For example, $A_n = 3 n + 4 n^2 + 5 n^5$ is a polynomial sequence while $B_n = 5^n$ and $C_n = \\sin(n + n^2)$ are not. We can write an arbitrary polynomial sequence of order $M$ as follows:\n",
        "\n",
        "$$\n",
        "A_n = \\sum_{k=0}^M \\alpha_k n^k = \\alpha_0 + \\alpha_1 n + \\alpha_2 n^2 + \\dots + \\alpha_M n^M\n",
        "$$\n",
        "\n",
        "\n",
        "Using the methods that we used in the previous section, it is easy to see that all polynomial sequences are asymptotic to its highest power term. In formulas:\n",
        "\n",
        "$$\n",
        "A_n = \\sum_{k=0}^M \\alpha_k n^k \\sim \\alpha_M n^M\n",
        "$$\n",
        "\n",
        "For example:\n",
        "\n",
        "$$\n",
        "1 + n^2 + 4 n^3 + 6 n^5 \\sim 6 n^5\n",
        "$$\n",
        "\n",
        "### Solved exercise 2\n",
        "\n",
        "Prove this general formula.\n",
        "\n",
        "#### Solution\n",
        "We can use the same approach that we used in the solved exercise 1. Let's start by writing the ratio:\n",
        "\n",
        "$$\n",
        "R_n = \\frac{\\sum_{k=0}^M \\alpha_k n^k}{\\alpha_M n^M}\n",
        "$$\n",
        "\n",
        "We can now \"split\" the numerator:\n",
        "\n",
        "$$\n",
        "\\frac{\\sum_{k=0}^M \\alpha_k n^k}{\\alpha_M n^M} = \\sum_{k=0}^M \\frac{ \\alpha_k n^k}{\\alpha_M n^M} = \\sum_{k=0}^M \\frac{ \\alpha_k}{\\alpha_M n^{M-k}}\n",
        "$$\n",
        "\n",
        "Note that $\\frac{\\alpha}{n^{M-k}}$ tends to zero except when $M = k$. Therefore, all the terms of the sum vanish except for the last, hence:\n",
        "\n",
        "$$\n",
        "\\lim_{n \\rightarrow \\infty} \\frac{\\sum_{k=0}^M \\alpha_k n^k}{\\alpha_M n^M} = \\sum_{k=0}^M \\frac{ \\alpha_k n^k}{\\alpha_M n^M} = \\lim_{n \\rightarrow \\infty} \\sum_{k=0}^M \\frac{ \\alpha_k}{\\alpha_M n^{M-k}} =  \\sum_{k=0}^M \\frac{ \\alpha_k}{ \\lim_{n \\rightarrow \\infty} \\alpha_M n^{M-k}} = 0 + \\lim_{n \\rightarrow \\infty} \\frac{\\alpha_M}{\\alpha_M n^0} = 1\n",
        "$$\n",
        "\n",
        "### Bonus exercise 1\n",
        "Prove the previous result using the (more difficult) inverse ratio:\n",
        "$$\n",
        "V_n = \\frac{\\alpha_M n^M}{\\sum_{k=0}^M \\alpha_k n^k}\n",
        "$$\n",
        "Hint: Divide both numerator and denumerator by $1/n^M$.\n",
        "\n",
        "## How to compute limits of ratio of polynomial sequences using asymptotics\n",
        "\n",
        "Asymptotics is very useful for quickly computing the limit of undetermined sequences that are a ratio of polynomial sequences. The key is the following important theorem:\n",
        "\n",
        "**_Theorem 2:_** If $A_n \\sim \\tilde{A}_n$ and $B_n \\sim \\tilde{B}_n$, then $A_n/B_n \\sim \\tilde{A}_n/\\tilde{B}_n$\n",
        "\n",
        "Since two asymptotic sequences have always the same limit (Bonus exercise 2: prove it). Then we have:\n",
        "\n",
        "**_Corollary:_** If $A_n \\sim \\tilde{A}_n$ and $B_n \\sim \\tilde{B}_n$, then $\\lim_{n \\rightarrow \\infty} A_n/B_n = \\lim_{n \\rightarrow \\infty} \\tilde{A}_n/\\tilde{B}_n$.\n",
        "\n",
        "We can use this important result to compute limits. For example, consider the sequence\n",
        "\n",
        "$$\n",
        "C_n = \\frac{A_n}{B_n} = \\frac{n + 5 n^3}{3 + 3 n^3}~.\n",
        "$$\n",
        "\n",
        "Using the result of the previous section, we have that:\n",
        "\n",
        "$$\n",
        "A_n \\sim 5 n^3 = \\tilde{A}_n\n",
        "$$\n",
        "\n",
        "and\n",
        "\n",
        "$$\n",
        "B_n \\sim 3 n^3 = \\tilde{B}_n~.\n",
        "$$\n",
        "\n",
        "Therefore:\n",
        "\n",
        "$$\n",
        "\\lim_{n \\rightarrow \\infty} C_n = \\lim_{n \\rightarrow \\infty} \\frac{A_n}{B_n} = \\lim_{n \\rightarrow \\infty} \\frac{\\tilde{A}_n}{\\tilde{B}_n} = \\lim_{n \\rightarrow \\infty} \\frac{5 n^3}{3 n^3} = \\frac{5}{3}~.\n",
        "$$"
      ]
    },
    {
      "cell_type": "markdown",
      "metadata": {
        "id": "Wvq27s-6VUPM"
      },
      "source": [
        "### Exercises 2\n",
        "Use asymptotics to compute the limits of the following sequences:\n",
        "- A: $\\frac{1 + n}{4 n}$\n",
        "- B: $\\frac{n + 10 n + 2 n^2}{4 + n^2}$\n",
        "- C: $\\frac{1 + 3n + 5 n + 3 n^2 + 6 n^5}{4 n + 5 n^2 + 3 n^5}$\n",
        "- D: $\\frac{n + 2 n^8}{4 + n + n^8 + 4 n^8}$\n",
        "- E: $\\frac{1 + n + 5 n^6}{7 n^7}$\n",
        "- F: $\\frac{7 + 3 n + 15 n + 3 n^2}{4 + n + 9 n^2}$\n",
        "\n",
        "#### Solutions\n",
        "- A: $1/4$\n",
        "- B: $2$\n",
        "- C: $2$\n",
        "- D: $2/5$\n",
        "- E: $0$\n",
        "- F: $1/3$\n",
        "\n",
        "### Python exercises 2\n",
        "Check the previous results numerically using Python."
      ]
    },
    {
      "cell_type": "code",
      "metadata": {
        "colab": {
          "base_uri": "https://localhost:8080/"
        },
        "id": "-WS7J1xqV-Ds",
        "outputId": "f13ea032-dd0e-492e-972d-ecf5bfb24a39"
      },
      "source": [
        "# Question 2A\n",
        "A = lambda n: n\n",
        "B = lambda n: 4*n\n",
        "N = 10000\n",
        "print(\"The limit of A_n/B_n is approximately equal to: {}\".format(A(N)/B(N)))"
      ],
      "execution_count": 13,
      "outputs": [
        {
          "output_type": "stream",
          "name": "stdout",
          "text": [
            "The limit of A_n/B_n is approximately equal to: 0.25\n"
          ]
        }
      ]
    },
    {
      "cell_type": "markdown",
      "metadata": {
        "id": "Tu2dHDF4314J"
      },
      "source": [
        "Please type your own calculations for this exercise in here. \n",
        "(The format in which you would write it down, according to the lecture notes)"
      ]
    },
    {
      "cell_type": "code",
      "metadata": {
        "id": "3RRmp2hyV_1A"
      },
      "source": [
        "# Question 2B\n",
        "A = lambda n: 2*n**2\n",
        "B = lambda n: n**2\n",
        "N = 10000\n",
        "print(\"The limit of A_n/B_n is approximately equal to: {}\".format(A(N)/B(N)))"
      ],
      "execution_count": null,
      "outputs": []
    },
    {
      "cell_type": "markdown",
      "metadata": {
        "id": "EUR2EmsM33G8"
      },
      "source": [
        "Please type your own calculations for this exercise in here. \n",
        "(The format in which you would write it down, according to the lecture notes)"
      ]
    },
    {
      "cell_type": "code",
      "metadata": {
        "colab": {
          "base_uri": "https://localhost:8080/"
        },
        "id": "RgODVxU7WBOW",
        "outputId": "5818a656-200b-4381-b59e-1a4da1e9315b"
      },
      "source": [
        "# Question 2C\n",
        "A = lambda n: 6*n**5\n",
        "B = lambda n: 3*n**5\n",
        "N = 10000\n",
        "print(\"The limit of A_n/B_n is approximately equal to: {}\".format(A(N)/B(N)))"
      ],
      "execution_count": 14,
      "outputs": [
        {
          "output_type": "stream",
          "name": "stdout",
          "text": [
            "The limit of A_n/B_n is approximately equal to: 2.0\n"
          ]
        }
      ]
    },
    {
      "cell_type": "markdown",
      "metadata": {
        "id": "Pv0TzyIF34i2"
      },
      "source": [
        "Please type your own calculations for this exercise in here. \n",
        "(The format in which you would write it down, according to the lecture notes)"
      ]
    },
    {
      "cell_type": "code",
      "metadata": {
        "colab": {
          "base_uri": "https://localhost:8080/"
        },
        "id": "dXyrmaB7WCIJ",
        "outputId": "a905131f-fcc4-4168-fae0-2eecbdc77c18"
      },
      "source": [
        "# Question 2D\n",
        "A = lambda n: 2*n**8\n",
        "B = lambda n: 4*n**8\n",
        "N = 10000\n",
        "print(\"The limit of A_n/B_n is approximately equal to: {}\".format(A(N)/B(N)))"
      ],
      "execution_count": 15,
      "outputs": [
        {
          "output_type": "stream",
          "name": "stdout",
          "text": [
            "The limit of A_n/B_n is approximately equal to: 0.5\n"
          ]
        }
      ]
    },
    {
      "cell_type": "markdown",
      "metadata": {
        "id": "OoCugt4Q35US"
      },
      "source": [
        "Please type your own calculations for this exercise in here. \n",
        "(The format in which you would write it down, according to the lecture notes)"
      ]
    },
    {
      "cell_type": "code",
      "metadata": {
        "colab": {
          "base_uri": "https://localhost:8080/"
        },
        "id": "LdvLTWouWC93",
        "outputId": "7e3d3121-f856-469b-f50e-adafc26b294f"
      },
      "source": [
        "# Question 2E\n",
        "A = lambda n: 5*n**6\n",
        "B = lambda n: 7*n**7\n",
        "N = 10000\n",
        "print(\"The limit of A_n/B_n is approximately equal to: {}\".format(A(N)/B(N)))"
      ],
      "execution_count": 16,
      "outputs": [
        {
          "output_type": "stream",
          "name": "stdout",
          "text": [
            "The limit of A_n/B_n is approximately equal to: 7.142857142857143e-05\n"
          ]
        }
      ]
    },
    {
      "cell_type": "markdown",
      "metadata": {
        "id": "4iklJhSd38RS"
      },
      "source": [
        "\n",
        "Please type your own calculations for this exercise in here. (The format in which you would write it down, according to the lecture notes)"
      ]
    },
    {
      "cell_type": "code",
      "metadata": {
        "colab": {
          "base_uri": "https://localhost:8080/"
        },
        "id": "8nSWtoU0WD1Z",
        "outputId": "a599b093-8676-4cf4-eb1b-e402d5d00ed9"
      },
      "source": [
        "# Question 2F\n",
        "A = lambda n: 3*n**2\n",
        "B = lambda n: 9*n**2\n",
        "N = 10000\n",
        "print(\"The limit of A_n/B_n is approximately equal to: {}\".format(A(N)/B(N)))"
      ],
      "execution_count": 17,
      "outputs": [
        {
          "output_type": "stream",
          "name": "stdout",
          "text": [
            "The limit of A_n/B_n is approximately equal to: 0.3333333333333333\n"
          ]
        }
      ]
    },
    {
      "cell_type": "markdown",
      "metadata": {
        "id": "vhMjZy3P4Aqj"
      },
      "source": [
        "\n",
        "Please type your own calculations for this exercise in here. (The format in which you would write it down, according to the lecture notes)"
      ]
    },
    {
      "cell_type": "markdown",
      "metadata": {
        "id": "dcPdkB-dgXi6"
      },
      "source": [
        "<!-- ### Exercises 2\n",
        "Use asymptotics to compute the limits of the following sequences:\n",
        "- A: $\\frac{1 + n}{4 n}$\n",
        "- B: $\\frac{n + 10 n + 2 n^2}{4 + n^2}$\n",
        "- C: $\\frac{1 + 3n + 5 n + 3 n^2 + 6 n^5}{4 n + 5 n^2 + 3 n^5}$\n",
        "- D: $\\frac{n + 2 n^8}{4 + n + n^8 + 4 n^8}$\n",
        "- E: $\\frac{1 + n + 5 n^6}{7 n^7}$\n",
        "- F: $\\frac{7 + 3 n + 15 n + 3 n^2}{4 + n + 9 n^2}$\n",
        "\n",
        "#### Solutions\n",
        "- A: $1/4$\n",
        "- B: $2$\n",
        "- C: $2$\n",
        "- D: $2/5$\n",
        "- E: $0$\n",
        "- F: $1/3$\n",
        "\n",
        "### Python exercises 2\n",
        "Check the previous results numerically using Python. -->\n",
        "\n",
        "\n",
        "\n",
        "There are some tricky aspects of symptotic relations that you should keep in mind (and that could pop up in the exam!). Let's discuss them in the next three (solved) exercises. You should try to solve them on your own before studying the solution.\n",
        "\n",
        "### Solved exercise 3\n",
        "Consider two asymptotic sequences $A_n \\sim B_n$ and another sequence $C_n$. Can we multiply both sides of the asymptotic relation by $C_n$ and get another valid asymptotic relation? In other words, is $C_n A_n \\sim C_n B_n$?\n",
        "\n",
        "#### Solution\n",
        "Yes! Let's write the limit of the ratio sequence of $C_n A_n$ and $C_n B_n$:\n",
        "$$\n",
        "\\lim_{n \\rightarrow \\infty} R_n = \\lim_{n \\rightarrow \\infty} \\frac{C_n A_n}{C_n B_n} = \\lim_{n \\rightarrow \\infty} \\frac{A_n}{B_n} = 1~,\n",
        "$$\n",
        "where we used the fact that $A_n$ and $B_n$ are asymptotic.\n",
        "\n",
        "### Solved exercise 4\n",
        "The previous exercise shows that, when we multiply and divide sequences, we can treat the $\\sim$ sign like an $=$ sign (i.e. we can multiply and divide both sides while preserving the asymptotic relation). Does this still work if we ADD a sequence $C_n$ to both sides?\n",
        "\n",
        "#### Solution\n",
        "No! Consider the following counter example:\n",
        "\n",
        "$$\n",
        "A_n = n + n^3\n",
        "$$\n",
        "\n",
        "$$\n",
        "B_n = n^2 + n^3\n",
        "$$\n",
        "\n",
        "$$\n",
        "C_n = - n^3\n",
        "$$\n",
        "\n",
        "It is easy to see that $A_n \\sim B_n$. Is $A_n + C_n \\sim B_n + C_n$? Nope. Let's compute these two sequences:\n",
        "\n",
        "$$\n",
        "A_n + C_n = n\n",
        "$$\n",
        "\n",
        "$$\n",
        "B_n + C_n = n^2~.\n",
        "$$\n",
        "\n",
        "these two sequences are clearly not asymptotic as the highest power is different.\n",
        "\n",
        "### Solved exercise 5\n",
        "Consider a sequence $A_n$ that has the (non-infinite) limit $a$. Is the sequence asymptotic to its limit?\n",
        "\n",
        "#### Solution\n",
        "Only if the limit is different from $0$! in that case, we can write the ratio:\n",
        "\n",
        "$$\n",
        "\\lim_{n \\rightarrow \\infty} R_n = \\lim_{n \\rightarrow \\infty} \\frac{A_n}{a} = \\frac{\\lim_{n \\rightarrow \\infty} A_n}{a} = \\frac{a}{a} = 1~.\n",
        "$$\n",
        "\n",
        "however, we can't write this ratio if $a$ is zero as we can't divide by zero! Nothing can be asymptotic to zero!\n",
        "\n",
        "\n",
        "## The geometric sum\n",
        "A geometric sum is a special kind of sequence whose $n$-th value is the sum of the first $n$ powers of a base $b$. In formulas:\n",
        "\n",
        "$$\n",
        "G_n = \\sum_{k=0}^n b^n~,\n",
        "$$\n",
        "\n",
        "where the base $b$ is a real number. Let's try to compute the limit of this sequence for difference values of $b$. We can do this using a clever trick! First of all, consider the modified sequence:\n",
        "\n",
        "$$\n",
        "\\hat{G}_n = b  G_n = b \\sum_{k=0}^n b^n = \\sum_{k=0}^n b^{n+1} = \\sum_{k=1}^{n+1} b^n\n",
        "$$\n",
        "\n",
        "Now let's subtract $\\hat{G}_n$ from $G_n$:\n",
        "\n",
        "$$\n",
        "G_n - \\hat{G}_n = \\sum_{k=0}^n b^n - \\sum_{k=1}^{n+1} b^{n} = b^0 + \\left( \\sum_{k=1}^n b^n - \\sum_{k=1}^n b^n \\right) + b^{n+1} = 1 + b^{n+1}~.\n",
        "$$\n",
        "\n",
        "Therefore:\n",
        "\n",
        "$$\n",
        "G_n - b G_n = 1 + b^{n+1}\n",
        "$$\n",
        "\n",
        "Solving this as a linear equation in the variable $G_n$, we get:\n",
        "\n",
        "$$\n",
        "G_n = \\frac{1 + b^{n+1}}{1 - b}~,\n",
        "$$\n",
        "\n",
        "which is valid if $b$ is not equal to $1$. We can now compute the limit of $G_n$ by using the fact that $b^n$ tends to infinity if the absolute value of $b$ is bigger than one and to $0$ if it is smaller. \n",
        "Therefore, the limit of $G_n$ is infinity when the absolute value of $b$ is bigger than one. On the other hand, if $|b| < 1$ we get:\n",
        "\n",
        "$$\n",
        "\\lim_{n \\rightarrow \\infty} G_n = \\lim_{n \\rightarrow \\infty} \\frac{1 + b^{n+1}}{1 - b} = \\frac{1}{1 - b}~.\n",
        "$$\n"
      ]
    },
    {
      "cell_type": "markdown",
      "metadata": {
        "id": "mX6aVQYAWOzy"
      },
      "source": [
        "### Exercises 3\n",
        "Use the formula to compute the limit of the geometric sum for:\n",
        "- A: b = 1/5\n",
        "- B: b = 1/10\n",
        "- C: b = 1/2\n",
        "\n",
        "#### Solutions:\n",
        "- A: 5/4\n",
        "- B: 10/9\n",
        "- C: 2"
      ]
    },
    {
      "cell_type": "markdown",
      "metadata": {
        "id": "oecUPO5EfmYq"
      },
      "source": [
        "Answers for Question 3\n",
        "\n",
        "3A\n",
        "\n",
        "3B\n",
        "\n",
        "3C"
      ]
    },
    {
      "cell_type": "markdown",
      "metadata": {
        "id": "kTBL5XJBWhB7"
      },
      "source": [
        "\n",
        "### Solved Python exercise 3\n",
        "\n",
        "Compute the $400$-th term of the geometric sum for  $b = 0.8$ using Python.\n",
        "\n",
        "#### Solution\n",
        "\n",
        "We can again use lambda functions. However, this time the function needs to sum a lot of terms. We can do this by defining a list and use the sum function:"
      ]
    },
    {
      "cell_type": "code",
      "metadata": {
        "id": "vsjWYGkiyjEp"
      },
      "source": [
        "G = lambda n, b=0.8: sum([b**k for k in range(n+1)])"
      ],
      "execution_count": null,
      "outputs": []
    },
    {
      "cell_type": "markdown",
      "metadata": {
        "id": "JwDSfPkdVhyf"
      },
      "source": [
        "\n",
        "<!-- There are some tricky aspects of symptotic relations that you should keep in mind (and that could pop up in the exam!). Let's discuss them in the next three (solved) exercises. You should try to solve them on your own before studying the solution.\n",
        "\n",
        "### Solved exercise 3\n",
        "Consider two asymptotic sequences $A_n \\sim B_n$ and another sequence $C_n$. Can we multiply both sides of the asymptotic relation by $C_n$ and get another valid asymptotic relation? In other words, is $C_n A_n \\sim C_n B_n$?\n",
        "\n",
        "#### Solution\n",
        "Yes! Let's write the limit of the ratio sequence of $C_n A_n$ and $C_n B_n$:\n",
        "$$\n",
        "\\lim_{n \\rightarrow \\infty} R_n = \\lim_{n \\rightarrow \\infty} \\frac{C_n A_n}{C_n B_n} = \\lim_{n \\rightarrow \\infty} \\frac{A_n}{B_n} = 1~,\n",
        "$$\n",
        "where we used the fact that $A_n$ and $B_n$ are asymptotic.\n",
        "\n",
        "### Solved exercise 4\n",
        "The previous exercise shows that, when we multiply and divide sequences, we can treat the $\\sim$ sign like an $=$ sign (i.e. we can multiply and divide both sides while preserving the asymptotic relation). Does this still work if we ADD a sequence $C_n$ to both sides?\n",
        "\n",
        "#### Solution\n",
        "No! Consider the following counter example:\n",
        "\n",
        "$$\n",
        "A_n = n + n^3\n",
        "$$\n",
        "\n",
        "$$\n",
        "B_n = n^2 + n^3\n",
        "$$\n",
        "\n",
        "$$\n",
        "C_n = - n^3\n",
        "$$\n",
        "\n",
        "It is easy to see that $A_n \\sim B_n$. Is $A_n + C_n \\sim B_n + C_n$? Nope. Let's compute these two sequences:\n",
        "\n",
        "$$\n",
        "A_n + C_n = n\n",
        "$$\n",
        "\n",
        "$$\n",
        "B_n + C_n = n^2~.\n",
        "$$\n",
        "\n",
        "these two sequences are clearly not asymptotic as the highest power is different.\n",
        "\n",
        "### Solved exercise 5\n",
        "Consider a sequence $A_n$ that has the (non-infinite) limit $a$. Is the sequence asymptotic to its limit?\n",
        "\n",
        "#### Solution\n",
        "Only if the limit is different from $0$! in that case, we can write the ratio:\n",
        "\n",
        "$$\n",
        "\\lim_{n \\rightarrow \\infty} R_n = \\lim_{n \\rightarrow \\infty} \\frac{A_n}{a} = \\frac{\\lim_{n \\rightarrow \\infty} A_n}{a} = \\frac{a}{a} = 1~.\n",
        "$$\n",
        "\n",
        "however, we can't write this ratio if $a$ is zero as we can't divide by zero! Nothing can be asymptotic to zero!\n",
        "\n",
        "\n",
        "## The geometric sum\n",
        "A geometric sum is a special kind of sequence whose $n$-th value is the sum of the first $n$ powers of a base $b$. In formulas:\n",
        "\n",
        "$$\n",
        "G_n = \\sum_{k=0}^n b^n~,\n",
        "$$\n",
        "\n",
        "where the base $b$ is a real number. Let's try to compute the limit of this sequence for difference values of $b$. We can do this using a clever trick! First of all, consider the modified sequence:\n",
        "\n",
        "$$\n",
        "\\hat{G}_n = b  G_n = b \\sum_{k=0}^n b^n = \\sum_{k=0}^n b^{n+1} = \\sum_{k=1}^{n+1} b^n\n",
        "$$\n",
        "\n",
        "Now let's subtract $\\hat{G}_n$ from $G_n$:\n",
        "\n",
        "$$\n",
        "G_n - \\hat{G}_n = \\sum_{k=0}^n b^n - \\sum_{k=1}^{n+1} b^{n} = b^0 + \\left( \\sum_{k=1}^n b^n - \\sum_{k=1}^n b^n \\right) + b^{n+1} = 1 + b^{n+1}~.\n",
        "$$\n",
        "\n",
        "Therefore:\n",
        "\n",
        "$$\n",
        "G_n - b G_n = 1 + b^{n+1}\n",
        "$$\n",
        "\n",
        "Solving this as a linear equation in the variable $G_n$, we get:\n",
        "\n",
        "$$\n",
        "G_n = \\frac{1 + b^{n+1}}{1 - b}~,\n",
        "$$\n",
        "\n",
        "which is valid if $b$ is not equal to $1$. We can now compute the limit of $G_n$ by using the fact that $b^n$ tends to infinity if the absolute value of $b$ is bigger than one and to $0$ if it is smaller. \n",
        "Therefore, the limit of $G_n$ is infinity when the absolute value of $b$ is bigger than one. On the other hand, if $|b| < 1$ we get:\n",
        "\n",
        "$$\n",
        "\\lim_{n \\rightarrow \\infty} G_n = \\lim_{n \\rightarrow \\infty} \\frac{1 + b^{n+1}}{1 - b} = \\frac{1}{1 - b}~.\n",
        "$$ -->"
      ]
    },
    {
      "cell_type": "markdown",
      "metadata": {
        "id": "jpJppQdZzCwD"
      },
      "source": [
        "In this expression, the command range(n+1) creates a list of integers from 0 to n while the command \\[b**k for k in range(n+1)\\] returns a list of $b$ elevated to those integers $[b^0, b^1, b^2, ..., b^n]$. \n",
        "\n",
        "We can now print the result\n",
        "\n"
      ]
    },
    {
      "cell_type": "code",
      "metadata": {
        "colab": {
          "base_uri": "https://localhost:8080/",
          "height": 34
        },
        "id": "TnOpTKLe0Dq2",
        "outputId": "2fafb1d7-ddb7-45c1-ca72-4daf601d7b67"
      },
      "source": [
        "n = 400\n",
        "print(\"The {}-th value of the geometric sum is: {}\".format(n, G(n)))"
      ],
      "execution_count": null,
      "outputs": [
        {
          "name": "stdout",
          "output_type": "stream",
          "text": [
            "The 400-th value of the geometric sum is: 5.000000000000001\n"
          ]
        }
      ]
    }
  ]
}